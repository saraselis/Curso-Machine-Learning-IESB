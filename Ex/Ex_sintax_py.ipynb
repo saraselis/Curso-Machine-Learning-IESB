{
  "nbformat": 4,
  "nbformat_minor": 0,
  "metadata": {
    "colab": {
      "name": "Untitled1.ipynb",
      "version": "0.3.2",
      "provenance": [],
      "collapsed_sections": []
    },
    "kernelspec": {
      "name": "python3",
      "display_name": "Python 3"
    }
  },
  "cells": [
    {
      "cell_type": "code",
      "metadata": {
        "id": "qIjKc6T2pxtC",
        "colab_type": "code",
        "colab": {}
      },
      "source": [
        "import numpy as np\n",
        "import random"
      ],
      "execution_count": 0,
      "outputs": []
    },
    {
      "cell_type": "code",
      "metadata": {
        "id": "Jla1qWnWs7_Y",
        "colab_type": "code",
        "colab": {}
      },
      "source": [
        "file = open('Q1', 'w')"
      ],
      "execution_count": 0,
      "outputs": []
    },
    {
      "cell_type": "code",
      "metadata": {
        "id": "d4RBXJOuqD4Z",
        "colab_type": "code",
        "colab": {}
      },
      "source": [
        "alturas=[]\n",
        "pesos=[]\n"
      ],
      "execution_count": 0,
      "outputs": []
    },
    {
      "cell_type": "code",
      "metadata": {
        "id": "hrztCxFzqeSh",
        "colab_type": "code",
        "colab": {}
      },
      "source": [
        "file.write(\"Alturas \")\n",
        "for altura in range (10) :\n",
        "    altura=random.uniform(1.5,2.5)\n",
        "    alturas.append(altura)\n",
        "    aaltura=str(altura)\n",
        "    file.write(aaltura)\n",
        "    file.write(\" \")\n"
      ],
      "execution_count": 0,
      "outputs": []
    },
    {
      "cell_type": "code",
      "metadata": {
        "id": "D0w_tUFpquKB",
        "colab_type": "code",
        "colab": {}
      },
      "source": [
        "file.write(\"\\nPesos \")\n",
        "for peso in range (10) :\n",
        "    peso=random.uniform(50,100)\n",
        "    pesos.append(peso)\n",
        "    ppeso=str(peso)\n",
        "    file.write(ppeso)"
      ],
      "execution_count": 0,
      "outputs": []
    },
    {
      "cell_type": "code",
      "metadata": {
        "id": "SVJt7HZLr_Pg",
        "colab_type": "code",
        "outputId": "0e025ab7-e696-4367-fe51-c2c11854c471",
        "colab": {
          "base_uri": "https://localhost:8080/",
          "height": 187
        }
      },
      "source": [
        "alturas\n",
        "\n"
      ],
      "execution_count": 0,
      "outputs": [
        {
          "output_type": "execute_result",
          "data": {
            "text/plain": [
              "[1.7488270511090502,\n",
              " 2.305569115069522,\n",
              " 1.9160512883878718,\n",
              " 1.5752236992718598,\n",
              " 2.172950422899143,\n",
              " 2.1254266181995263,\n",
              " 1.9515207619310502,\n",
              " 2.236419389631463,\n",
              " 2.4255423745013314,\n",
              " 2.0948977067885193]"
            ]
          },
          "metadata": {
            "tags": []
          },
          "execution_count": 225
        }
      ]
    },
    {
      "cell_type": "code",
      "metadata": {
        "id": "bfpokMeJsbA5",
        "colab_type": "code",
        "outputId": "79e2726f-04db-4f1e-9e04-29fe3cf03f3d",
        "colab": {
          "base_uri": "https://localhost:8080/",
          "height": 187
        }
      },
      "source": [
        "pesos"
      ],
      "execution_count": 0,
      "outputs": [
        {
          "output_type": "execute_result",
          "data": {
            "text/plain": [
              "[82.7106249854957,\n",
              " 99.63467192509617,\n",
              " 90.57982548289695,\n",
              " 65.8190375802202,\n",
              " 57.00574550617048,\n",
              " 85.77331247438146,\n",
              " 52.04118650774443,\n",
              " 87.8780325786289,\n",
              " 52.61222294021952,\n",
              " 69.6553364354586]"
            ]
          },
          "metadata": {
            "tags": []
          },
          "execution_count": 226
        }
      ]
    },
    {
      "cell_type": "code",
      "metadata": {
        "id": "iSBwtugGvwQm",
        "colab_type": "code",
        "colab": {}
      },
      "source": [
        "file.close()"
      ],
      "execution_count": 0,
      "outputs": []
    },
    {
      "cell_type": "code",
      "metadata": {
        "id": "njwjpc99x9UY",
        "colab_type": "code",
        "colab": {}
      },
      "source": [
        "file = open('Q1','r')"
      ],
      "execution_count": 0,
      "outputs": []
    },
    {
      "cell_type": "code",
      "metadata": {
        "id": "Q-FVeZxxyEnn",
        "colab_type": "code",
        "outputId": "607dbba3-1f58-4e66-82ab-3a8d6454e05a",
        "colab": {
          "base_uri": "https://localhost:8080/",
          "height": 88
        }
      },
      "source": [
        "texto=file.readlines()\n",
        "for linha in texto:\n",
        "    print(linha)"
      ],
      "execution_count": 0,
      "outputs": [
        {
          "output_type": "stream",
          "text": [
            "Alturas 17.194872300008477 13.622866002905937 19.28406998847055 12.201542891931307 15.513095577564048 10.413843929518041 18.97006796897127 18.237016180859932 15.621978634940515 10.562203733457178 \n",
            "\n",
            "Pesos 13.27928122453924519.732209591812612.92520533458569416.68387991454839218.8933494020702318.41460457861119718.5189371222531213.46765282249413812.08999906198334511.499995794787928\n"
          ],
          "name": "stdout"
        }
      ]
    },
    {
      "cell_type": "code",
      "metadata": {
        "id": "NzohqXlfy7es",
        "colab_type": "code",
        "colab": {}
      },
      "source": [
        "file.close()"
      ],
      "execution_count": 0,
      "outputs": []
    },
    {
      "cell_type": "code",
      "metadata": {
        "id": "aMc7qVl7y9qk",
        "colab_type": "code",
        "outputId": "39fb0894-52bb-4cca-d7a8-4d394875559b",
        "colab": {
          "base_uri": "https://localhost:8080/",
          "height": 1717
        }
      },
      "source": [
        "for peso in enumerate(pesos):\n",
        "    for altura in enumerate(alturas):\n",
        "        imc=pesos[peso[0]]/(alturas[altura[0]]**2)\n",
        "        print(imc)"
      ],
      "execution_count": 0,
      "outputs": [
        {
          "output_type": "stream",
          "text": [
            "27.043791420878705\n",
            "15.559835845295032\n",
            "22.52926599037913\n",
            "33.33318619202654\n",
            "17.51707812814114\n",
            "18.309187491124142\n",
            "21.717756046192264\n",
            "16.536926824767512\n",
            "14.05864841672497\n",
            "18.84671485159583\n",
            "32.577426253307756\n",
            "18.74365161581339\n",
            "27.139149608146305\n",
            "40.15374168727551\n",
            "21.10138005473518\n",
            "22.055568909231788\n",
            "26.1615904727004\n",
            "19.920672575306607\n",
            "16.935294866364508\n",
            "22.703083810984147\n",
            "29.616774238238794\n",
            "17.040219629056182\n",
            "24.67273076493096\n",
            "36.504550516842876\n",
            "19.1836765844236\n",
            "20.051148301327583\n",
            "23.784012669342008\n",
            "18.11027236311605\n",
            "15.396207202347519\n",
            "20.639816740386603\n",
            "21.520769842503256\n",
            "12.382126485238446\n",
            "17.928223914830497\n",
            "26.52571220476461\n",
            "13.939650725816179\n",
            "14.56999145820655\n",
            "17.28244468728235\n",
            "13.159670941086423\n",
            "11.187519241086514\n",
            "14.997742228382531\n",
            "18.639098562378354\n",
            "10.724136620539667\n",
            "15.527601244865354\n",
            "22.973869793701603\n",
            "12.073105456035798\n",
            "12.619042386958306\n",
            "14.968293062123953\n",
            "11.397566421389929\n",
            "9.689489517762555\n",
            "12.989516530020651\n",
            "28.04519458584434\n",
            "16.13600020846915\n",
            "23.36350102480927\n",
            "34.56747903327785\n",
            "18.165717115384922\n",
            "18.987157455328415\n",
            "22.521941720535917\n",
            "17.149271839688105\n",
            "14.579225387629226\n",
            "19.544588888851653\n",
            "17.01584280686176\n",
            "9.79018499010116\n",
            "14.175321894780833\n",
            "20.9731042392779\n",
            "11.021673818777035\n",
            "11.520065785960913\n",
            "13.664723161356633\n",
            "10.404966632806422\n",
            "8.845644008008524\n",
            "11.858275799779914\n",
            "28.733372332156616\n",
            "16.531948121184417\n",
            "23.936798579654305\n",
            "35.41570170272672\n",
            "18.61147056617117\n",
            "19.45306754864185\n",
            "23.074588950291204\n",
            "17.57008358372535\n",
            "14.936972895478629\n",
            "20.024177329322615\n",
            "17.20255388752748\n",
            "9.897610525243149\n",
            "14.330864567559384\n",
            "21.203237474632616\n",
            "11.14261220853573\n",
            "11.646472920573697\n",
            "13.814663147134238\n",
            "10.519138030976523\n",
            "8.942705303805962\n",
            "11.988394038091108\n",
            "22.77511976535073\n",
            "13.103825546894315\n",
            "18.973180319686694\n",
            "28.071777949671556\n",
            "14.752130945641552\n",
            "15.419211434779838\n",
            "18.2897614941976\n",
            "13.926689609584477\n",
            "11.839589961586316\n",
            "15.871893894179527\n"
          ],
          "name": "stdout"
        }
      ]
    },
    {
      "cell_type": "code",
      "metadata": {
        "id": "4qvG8qkr0Nla",
        "colab_type": "code",
        "colab": {}
      },
      "source": [
        ""
      ],
      "execution_count": 0,
      "outputs": []
    }
  ]
}