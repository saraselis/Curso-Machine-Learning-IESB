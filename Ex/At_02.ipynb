{
  "nbformat": 4,
  "nbformat_minor": 0,
  "metadata": {
    "colab": {
      "name": "At_02.ipynb",
      "version": "0.3.2",
      "provenance": []
    },
    "kernelspec": {
      "name": "python3",
      "display_name": "Python 3"
    }
  },
  "cells": [
    {
      "cell_type": "markdown",
      "metadata": {
        "id": "IxjEQOi-1ZOG",
        "colab_type": "text"
      },
      "source": [
        "\n",
        "**Atividade aula 02**"
      ]
    },
    {
      "cell_type": "code",
      "metadata": {
        "id": "vXn7qdSO1nH1",
        "colab_type": "code",
        "colab": {}
      },
      "source": [
        "import numpy as np\n",
        "import pandas as pd"
      ],
      "execution_count": 0,
      "outputs": []
    },
    {
      "cell_type": "code",
      "metadata": {
        "id": "4JSnrKlK0ZIc",
        "colab_type": "code",
        "outputId": "2073b3d1-368a-47ec-eb4c-c01db2b01b80",
        "colab": {
          "base_uri": "https://localhost:8080/",
          "height": 187
        }
      },
      "source": [
        "a,b=40,100\n",
        "pesos = (b - a) * np.random.random_sample((50)) + a\n",
        "#pesos=pesos.reshape(5)\n",
        "pesos"
      ],
      "execution_count": 0,
      "outputs": [
        {
          "output_type": "execute_result",
          "data": {
            "text/plain": [
              "array([64.10007314, 62.46085388, 75.2802222 , 69.35872151, 62.2894576 ,\n",
              "       53.51565114, 61.23664945, 58.48716828, 97.89289028, 75.64583495,\n",
              "       95.31889564, 48.66077529, 94.74559111, 50.13710089, 83.7472085 ,\n",
              "       42.38587637, 87.88339403, 77.78268494, 84.15070378, 51.26879494,\n",
              "       65.12751467, 63.05835619, 87.532883  , 82.87813804, 67.7568048 ,\n",
              "       54.37228014, 50.85004065, 93.59000956, 75.31271919, 52.83155881,\n",
              "       62.44592497, 53.86925896, 54.37250844, 77.27283341, 49.66200443,\n",
              "       78.01710936, 56.31492514, 75.92975945, 89.71785515, 97.8158916 ,\n",
              "       82.99364223, 89.91539143, 73.88396088, 76.70689465, 99.3672263 ,\n",
              "       46.40460086, 64.85041859, 42.0734067 , 49.73642122, 93.21009718])"
            ]
          },
          "metadata": {
            "tags": []
          },
          "execution_count": 78
        }
      ]
    },
    {
      "cell_type": "code",
      "metadata": {
        "id": "_BZgLt6U1kNd",
        "colab_type": "code",
        "outputId": "11c584ed-5796-43e6-f89b-118e390b6e8a",
        "colab": {
          "base_uri": "https://localhost:8080/",
          "height": 187
        }
      },
      "source": [
        "alturas=np.linspace(1.10,2.10,50)\n",
        "#alturas=alturas.reshape(5,10)\n",
        "alturas"
      ],
      "execution_count": 0,
      "outputs": [
        {
          "output_type": "execute_result",
          "data": {
            "text/plain": [
              "array([1.1       , 1.12040816, 1.14081633, 1.16122449, 1.18163265,\n",
              "       1.20204082, 1.22244898, 1.24285714, 1.26326531, 1.28367347,\n",
              "       1.30408163, 1.3244898 , 1.34489796, 1.36530612, 1.38571429,\n",
              "       1.40612245, 1.42653061, 1.44693878, 1.46734694, 1.4877551 ,\n",
              "       1.50816327, 1.52857143, 1.54897959, 1.56938776, 1.58979592,\n",
              "       1.61020408, 1.63061224, 1.65102041, 1.67142857, 1.69183673,\n",
              "       1.7122449 , 1.73265306, 1.75306122, 1.77346939, 1.79387755,\n",
              "       1.81428571, 1.83469388, 1.85510204, 1.8755102 , 1.89591837,\n",
              "       1.91632653, 1.93673469, 1.95714286, 1.97755102, 1.99795918,\n",
              "       2.01836735, 2.03877551, 2.05918367, 2.07959184, 2.1       ])"
            ]
          },
          "metadata": {
            "tags": []
          },
          "execution_count": 79
        }
      ]
    },
    {
      "cell_type": "code",
      "metadata": {
        "id": "jv06caK92j1z",
        "colab_type": "code",
        "outputId": "38b4c108-cb3a-47c9-de37-e16b36cb7dca",
        "colab": {
          "base_uri": "https://localhost:8080/",
          "height": 204
        }
      },
      "source": [
        "ps =pd.DataFrame(pesos)\n",
        "ps"
      ],
      "execution_count": 0,
      "outputs": [
        {
          "output_type": "execute_result",
          "data": {
            "text/html": [
              "<div>\n",
              "<style scoped>\n",
              "    .dataframe tbody tr th:only-of-type {\n",
              "        vertical-align: middle;\n",
              "    }\n",
              "\n",
              "    .dataframe tbody tr th {\n",
              "        vertical-align: top;\n",
              "    }\n",
              "\n",
              "    .dataframe thead th {\n",
              "        text-align: right;\n",
              "    }\n",
              "</style>\n",
              "<table border=\"1\" class=\"dataframe\">\n",
              "  <thead>\n",
              "    <tr style=\"text-align: right;\">\n",
              "      <th></th>\n",
              "      <th>0</th>\n",
              "      <th>1</th>\n",
              "      <th>2</th>\n",
              "      <th>3</th>\n",
              "      <th>4</th>\n",
              "      <th>5</th>\n",
              "      <th>6</th>\n",
              "      <th>7</th>\n",
              "      <th>8</th>\n",
              "      <th>9</th>\n",
              "    </tr>\n",
              "  </thead>\n",
              "  <tbody>\n",
              "    <tr>\n",
              "      <th>0</th>\n",
              "      <td>88.915623</td>\n",
              "      <td>84.894660</td>\n",
              "      <td>90.567574</td>\n",
              "      <td>68.272768</td>\n",
              "      <td>52.528435</td>\n",
              "      <td>77.026301</td>\n",
              "      <td>53.963033</td>\n",
              "      <td>55.116583</td>\n",
              "      <td>76.576037</td>\n",
              "      <td>71.521936</td>\n",
              "    </tr>\n",
              "    <tr>\n",
              "      <th>1</th>\n",
              "      <td>98.606627</td>\n",
              "      <td>76.056414</td>\n",
              "      <td>73.103931</td>\n",
              "      <td>91.517314</td>\n",
              "      <td>62.969006</td>\n",
              "      <td>80.137302</td>\n",
              "      <td>62.911527</td>\n",
              "      <td>96.871129</td>\n",
              "      <td>58.327790</td>\n",
              "      <td>58.730815</td>\n",
              "    </tr>\n",
              "    <tr>\n",
              "      <th>2</th>\n",
              "      <td>57.932216</td>\n",
              "      <td>85.848525</td>\n",
              "      <td>65.557838</td>\n",
              "      <td>58.205025</td>\n",
              "      <td>58.626151</td>\n",
              "      <td>60.732350</td>\n",
              "      <td>40.353697</td>\n",
              "      <td>65.718603</td>\n",
              "      <td>60.354919</td>\n",
              "      <td>85.697854</td>\n",
              "    </tr>\n",
              "    <tr>\n",
              "      <th>3</th>\n",
              "      <td>90.006642</td>\n",
              "      <td>59.120421</td>\n",
              "      <td>66.261812</td>\n",
              "      <td>66.070342</td>\n",
              "      <td>59.120072</td>\n",
              "      <td>52.918555</td>\n",
              "      <td>54.951106</td>\n",
              "      <td>42.300825</td>\n",
              "      <td>55.957011</td>\n",
              "      <td>95.030678</td>\n",
              "    </tr>\n",
              "    <tr>\n",
              "      <th>4</th>\n",
              "      <td>84.271430</td>\n",
              "      <td>70.684425</td>\n",
              "      <td>88.915951</td>\n",
              "      <td>48.965904</td>\n",
              "      <td>52.179928</td>\n",
              "      <td>84.632610</td>\n",
              "      <td>46.870616</td>\n",
              "      <td>83.988306</td>\n",
              "      <td>49.914527</td>\n",
              "      <td>89.500474</td>\n",
              "    </tr>\n",
              "  </tbody>\n",
              "</table>\n",
              "</div>"
            ],
            "text/plain": [
              "           0          1          2          3          4          5  \\\n",
              "0  88.915623  84.894660  90.567574  68.272768  52.528435  77.026301   \n",
              "1  98.606627  76.056414  73.103931  91.517314  62.969006  80.137302   \n",
              "2  57.932216  85.848525  65.557838  58.205025  58.626151  60.732350   \n",
              "3  90.006642  59.120421  66.261812  66.070342  59.120072  52.918555   \n",
              "4  84.271430  70.684425  88.915951  48.965904  52.179928  84.632610   \n",
              "\n",
              "           6          7          8          9  \n",
              "0  53.963033  55.116583  76.576037  71.521936  \n",
              "1  62.911527  96.871129  58.327790  58.730815  \n",
              "2  40.353697  65.718603  60.354919  85.697854  \n",
              "3  54.951106  42.300825  55.957011  95.030678  \n",
              "4  46.870616  83.988306  49.914527  89.500474  "
            ]
          },
          "metadata": {
            "tags": []
          },
          "execution_count": 50
        }
      ]
    },
    {
      "cell_type": "code",
      "metadata": {
        "id": "RXVhkkSC3USy",
        "colab_type": "code",
        "outputId": "c996e818-f7ba-496a-964a-bc317ae67be4",
        "colab": {
          "base_uri": "https://localhost:8080/",
          "height": 204
        }
      },
      "source": [
        "al=pd.DataFrame(alturas)\n",
        "al"
      ],
      "execution_count": 0,
      "outputs": [
        {
          "output_type": "execute_result",
          "data": {
            "text/html": [
              "<div>\n",
              "<style scoped>\n",
              "    .dataframe tbody tr th:only-of-type {\n",
              "        vertical-align: middle;\n",
              "    }\n",
              "\n",
              "    .dataframe tbody tr th {\n",
              "        vertical-align: top;\n",
              "    }\n",
              "\n",
              "    .dataframe thead th {\n",
              "        text-align: right;\n",
              "    }\n",
              "</style>\n",
              "<table border=\"1\" class=\"dataframe\">\n",
              "  <thead>\n",
              "    <tr style=\"text-align: right;\">\n",
              "      <th></th>\n",
              "      <th>0</th>\n",
              "      <th>1</th>\n",
              "      <th>2</th>\n",
              "      <th>3</th>\n",
              "      <th>4</th>\n",
              "      <th>5</th>\n",
              "      <th>6</th>\n",
              "      <th>7</th>\n",
              "      <th>8</th>\n",
              "      <th>9</th>\n",
              "    </tr>\n",
              "  </thead>\n",
              "  <tbody>\n",
              "    <tr>\n",
              "      <th>0</th>\n",
              "      <td>1.100000</td>\n",
              "      <td>1.120408</td>\n",
              "      <td>1.140816</td>\n",
              "      <td>1.161224</td>\n",
              "      <td>1.181633</td>\n",
              "      <td>1.202041</td>\n",
              "      <td>1.222449</td>\n",
              "      <td>1.242857</td>\n",
              "      <td>1.263265</td>\n",
              "      <td>1.283673</td>\n",
              "    </tr>\n",
              "    <tr>\n",
              "      <th>1</th>\n",
              "      <td>1.304082</td>\n",
              "      <td>1.324490</td>\n",
              "      <td>1.344898</td>\n",
              "      <td>1.365306</td>\n",
              "      <td>1.385714</td>\n",
              "      <td>1.406122</td>\n",
              "      <td>1.426531</td>\n",
              "      <td>1.446939</td>\n",
              "      <td>1.467347</td>\n",
              "      <td>1.487755</td>\n",
              "    </tr>\n",
              "    <tr>\n",
              "      <th>2</th>\n",
              "      <td>1.508163</td>\n",
              "      <td>1.528571</td>\n",
              "      <td>1.548980</td>\n",
              "      <td>1.569388</td>\n",
              "      <td>1.589796</td>\n",
              "      <td>1.610204</td>\n",
              "      <td>1.630612</td>\n",
              "      <td>1.651020</td>\n",
              "      <td>1.671429</td>\n",
              "      <td>1.691837</td>\n",
              "    </tr>\n",
              "    <tr>\n",
              "      <th>3</th>\n",
              "      <td>1.712245</td>\n",
              "      <td>1.732653</td>\n",
              "      <td>1.753061</td>\n",
              "      <td>1.773469</td>\n",
              "      <td>1.793878</td>\n",
              "      <td>1.814286</td>\n",
              "      <td>1.834694</td>\n",
              "      <td>1.855102</td>\n",
              "      <td>1.875510</td>\n",
              "      <td>1.895918</td>\n",
              "    </tr>\n",
              "    <tr>\n",
              "      <th>4</th>\n",
              "      <td>1.916327</td>\n",
              "      <td>1.936735</td>\n",
              "      <td>1.957143</td>\n",
              "      <td>1.977551</td>\n",
              "      <td>1.997959</td>\n",
              "      <td>2.018367</td>\n",
              "      <td>2.038776</td>\n",
              "      <td>2.059184</td>\n",
              "      <td>2.079592</td>\n",
              "      <td>2.100000</td>\n",
              "    </tr>\n",
              "  </tbody>\n",
              "</table>\n",
              "</div>"
            ],
            "text/plain": [
              "          0         1         2         3         4         5         6  \\\n",
              "0  1.100000  1.120408  1.140816  1.161224  1.181633  1.202041  1.222449   \n",
              "1  1.304082  1.324490  1.344898  1.365306  1.385714  1.406122  1.426531   \n",
              "2  1.508163  1.528571  1.548980  1.569388  1.589796  1.610204  1.630612   \n",
              "3  1.712245  1.732653  1.753061  1.773469  1.793878  1.814286  1.834694   \n",
              "4  1.916327  1.936735  1.957143  1.977551  1.997959  2.018367  2.038776   \n",
              "\n",
              "          7         8         9  \n",
              "0  1.242857  1.263265  1.283673  \n",
              "1  1.446939  1.467347  1.487755  \n",
              "2  1.651020  1.671429  1.691837  \n",
              "3  1.855102  1.875510  1.895918  \n",
              "4  2.059184  2.079592  2.100000  "
            ]
          },
          "metadata": {
            "tags": []
          },
          "execution_count": 51
        }
      ]
    },
    {
      "cell_type": "code",
      "metadata": {
        "id": "aTErjA0_4O6B",
        "colab_type": "code",
        "outputId": "fe810f1d-5c80-4399-ed70-8e541f7e0768",
        "colab": {
          "base_uri": "https://localhost:8080/",
          "height": 187
        }
      },
      "source": [
        "imc=pesos/(alturas**2)\n",
        "imc"
      ],
      "execution_count": 0,
      "outputs": [
        {
          "output_type": "execute_result",
          "data": {
            "text/plain": [
              "array([52.97526706, 49.75713756, 57.84281716, 51.43617988, 44.61178308,\n",
              "       37.0375614 , 40.9779224 , 37.86327449, 61.34257651, 45.90668048,\n",
              "       56.04920355, 27.73842452, 52.38179065, 26.89670888, 43.61370195,\n",
              "       21.43753682, 43.18616398, 37.15203609, 39.08338149, 23.16275497,\n",
              "       28.63306167, 26.98802912, 36.48210097, 33.64956591, 26.80835479,\n",
              "       20.97083386, 19.12449191, 34.33401626, 26.95831135, 18.45765498,\n",
              "       21.29964383, 17.94393886, 17.69233694, 24.56854538, 15.43258417,\n",
              "       23.70164523, 16.73001336, 22.06360215, 25.50586284, 27.21260702,\n",
              "       22.59986265, 23.97142073, 19.2887958 , 19.61457974, 24.89258184,\n",
              "       11.39096765, 15.60177345,  9.92241771, 11.50054243, 21.13607646])"
            ]
          },
          "metadata": {
            "tags": []
          },
          "execution_count": 80
        }
      ]
    },
    {
      "cell_type": "code",
      "metadata": {
        "id": "B9LA2H9J9sDe",
        "colab_type": "code",
        "outputId": "e7df16e0-6dc2-46e4-ccf5-da023477cb46",
        "colab": {
          "base_uri": "https://localhost:8080/",
          "height": 51
        }
      },
      "source": [
        "imc[imc < 18.5]"
      ],
      "execution_count": 0,
      "outputs": [
        {
          "output_type": "execute_result",
          "data": {
            "text/plain": [
              "array([18.45765498, 17.94393886, 17.69233694, 15.43258417, 16.73001336,\n",
              "       11.39096765, 15.60177345,  9.92241771, 11.50054243])"
            ]
          },
          "metadata": {
            "tags": []
          },
          "execution_count": 81
        }
      ]
    },
    {
      "cell_type": "code",
      "metadata": {
        "id": "ax4u7dsW471j",
        "colab_type": "code",
        "outputId": "45be7479-440b-474c-a306-c48607ceaf8a",
        "colab": {
          "base_uri": "https://localhost:8080/",
          "height": 231
        }
      },
      "source": [
        "for i in imc:\n",
        "    if (i <18.5):\n",
        "        print(\"Magro demais\")\n",
        "    elif (i>18.5 and i<24.9):\n",
        "        print(\"talkei\")"
      ],
      "execution_count": 1,
      "outputs": [
        {
          "output_type": "error",
          "ename": "NameError",
          "evalue": "ignored",
          "traceback": [
            "\u001b[0;31m---------------------------------------------------------------------------\u001b[0m",
            "\u001b[0;31mNameError\u001b[0m                                 Traceback (most recent call last)",
            "\u001b[0;32m<ipython-input-1-db66d14dc637>\u001b[0m in \u001b[0;36m<module>\u001b[0;34m()\u001b[0m\n\u001b[0;32m----> 1\u001b[0;31m \u001b[0;32mfor\u001b[0m \u001b[0mi\u001b[0m \u001b[0;32min\u001b[0m \u001b[0mimc\u001b[0m\u001b[0;34m:\u001b[0m\u001b[0;34m\u001b[0m\u001b[0;34m\u001b[0m\u001b[0m\n\u001b[0m\u001b[1;32m      2\u001b[0m     \u001b[0;32mif\u001b[0m \u001b[0;34m(\u001b[0m\u001b[0mi\u001b[0m \u001b[0;34m<\u001b[0m\u001b[0;36m18.5\u001b[0m\u001b[0;34m)\u001b[0m\u001b[0;34m:\u001b[0m\u001b[0;34m\u001b[0m\u001b[0;34m\u001b[0m\u001b[0m\n\u001b[1;32m      3\u001b[0m         \u001b[0mprint\u001b[0m\u001b[0;34m(\u001b[0m\u001b[0;34m\"Magro demais\"\u001b[0m\u001b[0;34m)\u001b[0m\u001b[0;34m\u001b[0m\u001b[0;34m\u001b[0m\u001b[0m\n\u001b[1;32m      4\u001b[0m     \u001b[0;32melif\u001b[0m \u001b[0;34m(\u001b[0m\u001b[0mi\u001b[0m\u001b[0;34m>\u001b[0m\u001b[0;36m18.5\u001b[0m \u001b[0;32mand\u001b[0m \u001b[0mi\u001b[0m\u001b[0;34m<\u001b[0m\u001b[0;36m24.9\u001b[0m\u001b[0;34m)\u001b[0m\u001b[0;34m:\u001b[0m\u001b[0;34m\u001b[0m\u001b[0;34m\u001b[0m\u001b[0m\n\u001b[1;32m      5\u001b[0m         \u001b[0mprint\u001b[0m\u001b[0;34m(\u001b[0m\u001b[0;34m\"talkei\"\u001b[0m\u001b[0;34m)\u001b[0m\u001b[0;34m\u001b[0m\u001b[0;34m\u001b[0m\u001b[0m\n",
            "\u001b[0;31mNameError\u001b[0m: name 'imc' is not defined"
          ]
        }
      ]
    },
    {
      "cell_type": "code",
      "metadata": {
        "id": "W1dZrkl_8T3d",
        "colab_type": "code",
        "colab": {}
      },
      "source": [
        ""
      ],
      "execution_count": 0,
      "outputs": []
    }
  ]
}