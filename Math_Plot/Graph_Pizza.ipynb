{
  "nbformat": 4,
  "nbformat_minor": 0,
  "metadata": {
    "colab": {
      "name": "Graph_Pizza.ipynb",
      "version": "0.3.2",
      "provenance": []
    },
    "kernelspec": {
      "name": "python3",
      "display_name": "Python 3"
    }
  },
  "cells": [
    {
      "cell_type": "code",
      "metadata": {
        "id": "aak40yJfcAbs",
        "colab_type": "code",
        "colab": {}
      },
      "source": [
        "import matplotlib.pyplot as plt"
      ],
      "execution_count": 0,
      "outputs": []
    },
    {
      "cell_type": "code",
      "metadata": {
        "id": "1rJBGriwcMNs",
        "colab_type": "code",
        "colab": {}
      },
      "source": [
        "X = [1, 2, 1, 2]\n",
        "nomes=['Lola', 'Rexinha', 'Nixinha', 'Igor']\n",
        "colors=['r','k','g']"
      ],
      "execution_count": 0,
      "outputs": []
    },
    {
      "cell_type": "code",
      "metadata": {
        "id": "z0PMAyjVcNOr",
        "colab_type": "code",
        "outputId": "72ca31e8-1903-4cc4-e5cf-3d4659d56fb1",
        "colab": {
          "base_uri": "https://localhost:8080/",
          "height": 391
        }
      },
      "source": [
        "plt.pie(X, labels=nomes,colors=colors)"
      ],
      "execution_count": 0,
      "outputs": [
        {
          "output_type": "execute_result",
          "data": {
            "text/plain": [
              "([<matplotlib.patches.Wedge at 0x7f61170f8320>,\n",
              "  <matplotlib.patches.Wedge at 0x7f61170f8828>,\n",
              "  <matplotlib.patches.Wedge at 0x7f61170f8cf8>,\n",
              "  <matplotlib.patches.Wedge at 0x7f61170f8240>],\n",
              " [Text(0.9526279355804298, 0.5500000148652441, 'Lola'),\n",
              "  Text(-0.5500000594609755, 0.9526279098330699, 'Rexinha'),\n",
              "  Text(-0.952627884085708, -0.5500001040567056, 'Nixinha'),\n",
              "  Text(0.5500001486524352, -0.9526278583383436, 'Igor')])"
            ]
          },
          "metadata": {
            "tags": []
          },
          "execution_count": 10
        },
        {
          "output_type": "display_data",
          "data": {
            "image/png": "[encoded data removed]",
            "text/plain": [
              "<Figure size 432x288 with 1 Axes>"
            ]
          },
          "metadata": {
            "tags": []
          }
        }
      ]
    },
    {
      "cell_type": "code",
      "metadata": {
        "id": "V-Djfo11cZ3r",
        "colab_type": "code",
        "colab": {}
      },
      "source": [
        ""
      ],
      "execution_count": 0,
      "outputs": []
    }
  ]
}